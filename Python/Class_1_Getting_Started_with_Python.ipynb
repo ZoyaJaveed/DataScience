{
  "nbformat": 4,
  "nbformat_minor": 0,
  "metadata": {
    "colab": {
      "name": "Class-1: Getting Started with Python.ipynb",
      "provenance": [],
      "authorship_tag": "ABX9TyMwKgKjUFSivMMqX4zqyYZO",
      "include_colab_link": true
    },
    "kernelspec": {
      "name": "python3",
      "display_name": "Python 3"
    },
    "language_info": {
      "name": "python"
    }
  },
  "cells": [
    {
      "cell_type": "markdown",
      "metadata": {
        "id": "view-in-github",
        "colab_type": "text"
      },
      "source": [
        "<a href=\"https://colab.research.google.com/github/Pepcoders/Data-Science-February/blob/main/Python/Class_1_Getting_Started_with_Python.ipynb\" target=\"_parent\"><img src=\"https://colab.research.google.com/assets/colab-badge.svg\" alt=\"Open In Colab\"/></a>"
      ]
    },
    {
      "cell_type": "markdown",
      "source": [
        "# Why Python ? \n",
        "\n",
        "  - Easy to learn\n",
        "  - Vast Library Support\n",
        "      - Scikit-Learn\n",
        "      - Pandas\n",
        "      - Numpy\n",
        "      - Scipy\n",
        "      - Matplotlib\n",
        "      - Seaborn\n",
        "      - Tenorsflow.....ect\n",
        "  - Industry use"
      ],
      "metadata": {
        "id": "V3Tw1gXjZRLF"
      }
    },
    {
      "cell_type": "markdown",
      "source": [
        "# Let's Learn Python"
      ],
      "metadata": {
        "id": "zBzRuEIgbJHR"
      }
    },
    {
      "cell_type": "markdown",
      "source": [
        "## 1. Python in Simple\n",
        "  - python - 6/10\n",
        "  - french - 4/10"
      ],
      "metadata": {
        "id": "T8l9YlnhbOYF"
      }
    },
    {
      "cell_type": "code",
      "source": [
        "import this"
      ],
      "metadata": {
        "colab": {
          "base_uri": "https://localhost:8080/"
        },
        "id": "1CDlRKHQbN4s",
        "outputId": "7eafb46a-06dc-4787-fdc1-3cfe91d69159"
      },
      "execution_count": null,
      "outputs": [
        {
          "output_type": "stream",
          "name": "stdout",
          "text": [
            "The Zen of Python, by Tim Peters\n",
            "\n",
            "Beautiful is better than ugly.\n",
            "Explicit is better than implicit.\n",
            "Simple is better than complex.\n",
            "Complex is better than complicated.\n",
            "Flat is better than nested.\n",
            "Sparse is better than dense.\n",
            "Readability counts.\n",
            "Special cases aren't special enough to break the rules.\n",
            "Although practicality beats purity.\n",
            "Errors should never pass silently.\n",
            "Unless explicitly silenced.\n",
            "In the face of ambiguity, refuse the temptation to guess.\n",
            "There should be one-- and preferably only one --obvious way to do it.\n",
            "Although that way may not be obvious at first unless you're Dutch.\n",
            "Now is better than never.\n",
            "Although never is often better than *right* now.\n",
            "If the implementation is hard to explain, it's a bad idea.\n",
            "If the implementation is easy to explain, it may be a good idea.\n",
            "Namespaces are one honking great idea -- let's do more of those!\n"
          ]
        }
      ]
    },
    {
      "cell_type": "code",
      "source": [
        "// Hello world in Java\n",
        "\n",
        "class HelloWorld{\n",
        "    public static void main(Sting args[]){\n",
        "        System.out.println(\"Hello World\");\n",
        "    }\n",
        "}"
      ],
      "metadata": {
        "id": "YblwH91vbNKm"
      },
      "execution_count": null,
      "outputs": []
    },
    {
      "cell_type": "code",
      "source": [
        "// Hello world in c++\n",
        "\n",
        "#include <iostream>\n",
        "using namspace std\n",
        "\n",
        "int main(){\n",
        "    cout<<\"Hello World\";\n",
        "}"
      ],
      "metadata": {
        "id": "5x2NaMHFaQmO"
      },
      "execution_count": null,
      "outputs": []
    },
    {
      "cell_type": "code",
      "source": [
        "print(\"Hello World\")"
      ],
      "metadata": {
        "colab": {
          "base_uri": "https://localhost:8080/"
        },
        "id": "7v6hqe1kcEwu",
        "outputId": "29cc046e-ce0e-4819-e261-4190e001aa7b"
      },
      "execution_count": null,
      "outputs": [
        {
          "output_type": "stream",
          "name": "stdout",
          "text": [
            "Hello World\n"
          ]
        }
      ]
    },
    {
      "cell_type": "markdown",
      "source": [
        "## Swap two numbers"
      ],
      "metadata": {
        "id": "7ux-_81Bca8Z"
      }
    },
    {
      "cell_type": "code",
      "source": [
        "// Hello world in Java\n",
        "\n",
        "class HelloWorld{\n",
        "    public static void main(Sting args[]){\n",
        "        int a = 10;\n",
        "        int b = 20;\n",
        "\n",
        "        int temp = a;\n",
        "        int a = b;\n",
        "        int b = temp;\n",
        "        System.out.println(a + \" \" + b);\n",
        "    }\n",
        "}"
      ],
      "metadata": {
        "id": "5LN4TMRNcGq3"
      },
      "execution_count": null,
      "outputs": []
    },
    {
      "cell_type": "code",
      "source": [
        "a = 10\n",
        "b = 20\n",
        "\n",
        "a, b = b, a"
      ],
      "metadata": {
        "id": "wH6mtGGCcvnl"
      },
      "execution_count": null,
      "outputs": []
    },
    {
      "cell_type": "code",
      "source": [
        "b"
      ],
      "metadata": {
        "colab": {
          "base_uri": "https://localhost:8080/"
        },
        "id": "dEeULM8lczRE",
        "outputId": "de31fba8-b28a-4791-989b-92a25d0dd342"
      },
      "execution_count": null,
      "outputs": [
        {
          "output_type": "execute_result",
          "data": {
            "text/plain": [
              "10"
            ]
          },
          "metadata": {},
          "execution_count": 5
        }
      ]
    },
    {
      "cell_type": "markdown",
      "source": [
        "# no Data Type == No Tension "
      ],
      "metadata": {
        "id": "jhaCxoy1eEE2"
      }
    },
    {
      "cell_type": "code",
      "source": [
        "//Java / C++\n",
        "\n",
        "int a = 10 \n",
        "a = 10.5 // Error\n",
        "a = \"Hello\" // Error"
      ],
      "metadata": {
        "id": "gZZc5-x8c0E4"
      },
      "execution_count": null,
      "outputs": []
    },
    {
      "cell_type": "code",
      "source": [
        "a = 10\n",
        "print(a)"
      ],
      "metadata": {
        "colab": {
          "base_uri": "https://localhost:8080/"
        },
        "id": "azogRljWeh2s",
        "outputId": "72a8ff08-53e1-46c1-bc94-6effe4494690"
      },
      "execution_count": null,
      "outputs": [
        {
          "output_type": "stream",
          "name": "stdout",
          "text": [
            "10\n"
          ]
        }
      ]
    },
    {
      "cell_type": "code",
      "source": [
        "type(a)"
      ],
      "metadata": {
        "colab": {
          "base_uri": "https://localhost:8080/"
        },
        "id": "wqrgMPuGesXM",
        "outputId": "577a2aa8-be11-4916-d7d2-7cb19afd3e52"
      },
      "execution_count": null,
      "outputs": [
        {
          "output_type": "execute_result",
          "data": {
            "text/plain": [
              "int"
            ]
          },
          "metadata": {},
          "execution_count": 17
        }
      ]
    },
    {
      "cell_type": "code",
      "source": [
        "a = 10.5"
      ],
      "metadata": {
        "id": "HRBqDF79eikV"
      },
      "execution_count": null,
      "outputs": []
    },
    {
      "cell_type": "code",
      "source": [
        "a"
      ],
      "metadata": {
        "colab": {
          "base_uri": "https://localhost:8080/"
        },
        "id": "R_oYvSowej63",
        "outputId": "92e31222-5d56-4423-98e8-0210f4f3b288"
      },
      "execution_count": null,
      "outputs": [
        {
          "output_type": "execute_result",
          "data": {
            "text/plain": [
              "10.5"
            ]
          },
          "metadata": {},
          "execution_count": 11
        }
      ]
    },
    {
      "cell_type": "code",
      "source": [
        "type(a)"
      ],
      "metadata": {
        "colab": {
          "base_uri": "https://localhost:8080/"
        },
        "id": "lGcLxJeFeksL",
        "outputId": "07653cd3-4590-4231-f5ff-cf352e3bf1c2"
      },
      "execution_count": null,
      "outputs": [
        {
          "output_type": "execute_result",
          "data": {
            "text/plain": [
              "float"
            ]
          },
          "metadata": {},
          "execution_count": 12
        }
      ]
    },
    {
      "cell_type": "code",
      "source": [
        "a = \"Python\"\n",
        "type(a)"
      ],
      "metadata": {
        "colab": {
          "base_uri": "https://localhost:8080/"
        },
        "id": "-1xDERsBeqSu",
        "outputId": "e646afda-fd44-4c3e-a2af-a68ec7d95bd2"
      },
      "execution_count": null,
      "outputs": [
        {
          "output_type": "execute_result",
          "data": {
            "text/plain": [
              "str"
            ]
          },
          "metadata": {},
          "execution_count": 15
        }
      ]
    },
    {
      "cell_type": "markdown",
      "source": [
        "## 3. No Chance of Semicolon/Braces Error 😎😎"
      ],
      "metadata": {
        "id": "g1jxL8eCfvTI"
      }
    },
    {
      "cell_type": "code",
      "source": [
        "// Other Programming Languages\n",
        "\n",
        "if (condition){\n",
        "    print();\n",
        "}"
      ],
      "metadata": {
        "id": "6-u76SdOeyw9"
      },
      "execution_count": null,
      "outputs": []
    },
    {
      "cell_type": "code",
      "source": [
        "a = 10\n",
        "b = 20\n",
        "\n",
        "if a > b:\n",
        "  print(\"Python is Pro\")\n",
        "print(\"Hello\")"
      ],
      "metadata": {
        "colab": {
          "base_uri": "https://localhost:8080/"
        },
        "id": "HP9aEcKggVKp",
        "outputId": "9def7bd1-107f-4742-e03d-92e40e78724c"
      },
      "execution_count": null,
      "outputs": [
        {
          "output_type": "stream",
          "name": "stdout",
          "text": [
            "Hello\n"
          ]
        }
      ]
    },
    {
      "cell_type": "code",
      "source": [
        "a = 10\n",
        "b = 20\n",
        "\n",
        "if a > b:\n",
        "  print(\"Python is Pro\")\n",
        " print(\"Hello\")"
      ],
      "metadata": {
        "colab": {
          "base_uri": "https://localhost:8080/",
          "height": 134
        },
        "id": "H3eK06ibhf9m",
        "outputId": "ff44d0af-4409-4192-e332-92a42b5c1806"
      },
      "execution_count": null,
      "outputs": [
        {
          "output_type": "error",
          "ename": "IndentationError",
          "evalue": "ignored",
          "traceback": [
            "\u001b[0;36m  File \u001b[0;32m\"<ipython-input-24-961e2b4024b1>\"\u001b[0;36m, line \u001b[0;32m6\u001b[0m\n\u001b[0;31m    print(\"Hello\")\u001b[0m\n\u001b[0m                  ^\u001b[0m\n\u001b[0;31mIndentationError\u001b[0m\u001b[0;31m:\u001b[0m unindent does not match any outer indentation level\n"
          ]
        }
      ]
    },
    {
      "cell_type": "code",
      "source": [
        "from __future__ import braces"
      ],
      "metadata": {
        "colab": {
          "base_uri": "https://localhost:8080/",
          "height": 134
        },
        "id": "VTYfB8Qegdmp",
        "outputId": "b2db9371-99f8-4a72-bcbf-187e542d2ef6"
      },
      "execution_count": null,
      "outputs": [
        {
          "output_type": "error",
          "ename": "SyntaxError",
          "evalue": "ignored",
          "traceback": [
            "\u001b[0;36m  File \u001b[0;32m\"<ipython-input-23-6d5c5b2f0daf>\"\u001b[0;36m, line \u001b[0;32m1\u001b[0m\n\u001b[0;31m    from __future__ import braces\u001b[0m\n\u001b[0m                                 ^\u001b[0m\n\u001b[0;31mSyntaxError\u001b[0m\u001b[0;31m:\u001b[0m not a chance\n"
          ]
        }
      ]
    },
    {
      "cell_type": "markdown",
      "source": [
        "# Indentifiers\n",
        "  - Name of Variable, Class, Function, Modules...ect\n",
        "  - Rules\n",
        "    - small letter (a-z)\n",
        "    - Cap letter (A-Z)\n",
        "    - Number(0-9) - Not in starting\n",
        "    - _\n",
        "    - no special char."
      ],
      "metadata": {
        "id": "RZ6Pi9LLhkeM"
      }
    },
    {
      "cell_type": "code",
      "source": [
        "a = 10"
      ],
      "metadata": {
        "id": "AKZ1xJnRhj3G"
      },
      "execution_count": null,
      "outputs": []
    },
    {
      "cell_type": "code",
      "source": [
        "1a = 10"
      ],
      "metadata": {
        "colab": {
          "base_uri": "https://localhost:8080/",
          "height": 134
        },
        "id": "ApO6HOq4hNkR",
        "outputId": "88218e45-be58-49e7-bbf6-9c71784036d5"
      },
      "execution_count": null,
      "outputs": [
        {
          "output_type": "error",
          "ename": "SyntaxError",
          "evalue": "ignored",
          "traceback": [
            "\u001b[0;36m  File \u001b[0;32m\"<ipython-input-26-1be9f8edb7cd>\"\u001b[0;36m, line \u001b[0;32m1\u001b[0m\n\u001b[0;31m    1a = 10\u001b[0m\n\u001b[0m     ^\u001b[0m\n\u001b[0;31mSyntaxError\u001b[0m\u001b[0;31m:\u001b[0m invalid syntax\n"
          ]
        }
      ]
    },
    {
      "cell_type": "code",
      "source": [
        "a1 = 10"
      ],
      "metadata": {
        "id": "1OBVa9AuiaUD"
      },
      "execution_count": null,
      "outputs": []
    },
    {
      "cell_type": "code",
      "source": [
        "a_ = 10"
      ],
      "metadata": {
        "id": "3QgmXoSFieAw"
      },
      "execution_count": null,
      "outputs": []
    },
    {
      "cell_type": "code",
      "source": [
        "_a = 10"
      ],
      "metadata": {
        "id": "1euJlb7-ifR1"
      },
      "execution_count": null,
      "outputs": []
    },
    {
      "cell_type": "code",
      "source": [
        "a$ = 10"
      ],
      "metadata": {
        "colab": {
          "base_uri": "https://localhost:8080/",
          "height": 134
        },
        "id": "nQt87cpCigRc",
        "outputId": "bfde9fc1-8433-44f0-b701-56a4ff19432c"
      },
      "execution_count": null,
      "outputs": [
        {
          "output_type": "error",
          "ename": "SyntaxError",
          "evalue": "ignored",
          "traceback": [
            "\u001b[0;36m  File \u001b[0;32m\"<ipython-input-30-20171081f5c4>\"\u001b[0;36m, line \u001b[0;32m1\u001b[0m\n\u001b[0;31m    a$ = 10\u001b[0m\n\u001b[0m     ^\u001b[0m\n\u001b[0;31mSyntaxError\u001b[0m\u001b[0;31m:\u001b[0m invalid syntax\n"
          ]
        }
      ]
    },
    {
      "cell_type": "code",
      "source": [
        "ABC = 100"
      ],
      "metadata": {
        "id": "ALsrLdRVijYR"
      },
      "execution_count": null,
      "outputs": []
    },
    {
      "cell_type": "code",
      "source": [
        "apple = 10"
      ],
      "metadata": {
        "id": "mkld0bTzkS7b"
      },
      "execution_count": null,
      "outputs": []
    },
    {
      "cell_type": "code",
      "source": [
        "Ab = 30"
      ],
      "metadata": {
        "id": "CPHAqrvAirqR"
      },
      "execution_count": null,
      "outputs": []
    },
    {
      "cell_type": "code",
      "source": [
        "A_b = 50"
      ],
      "metadata": {
        "id": "25-3NYvviszM"
      },
      "execution_count": null,
      "outputs": []
    },
    {
      "cell_type": "code",
      "source": [
        "$a = 20\n",
        "A$ = 30\n",
        "10a = 50"
      ],
      "metadata": {
        "colab": {
          "base_uri": "https://localhost:8080/",
          "height": 134
        },
        "id": "JaD3tQioiucK",
        "outputId": "ee4810ec-5c3f-4705-cca3-600b0a054a5b"
      },
      "execution_count": null,
      "outputs": [
        {
          "output_type": "error",
          "ename": "SyntaxError",
          "evalue": "ignored",
          "traceback": [
            "\u001b[0;36m  File \u001b[0;32m\"<ipython-input-36-76bb30202555>\"\u001b[0;36m, line \u001b[0;32m1\u001b[0m\n\u001b[0;31m    $a = 20\u001b[0m\n\u001b[0m    ^\u001b[0m\n\u001b[0;31mSyntaxError\u001b[0m\u001b[0;31m:\u001b[0m invalid syntax\n"
          ]
        }
      ]
    },
    {
      "cell_type": "code",
      "source": [
        "if1 = 200"
      ],
      "metadata": {
        "id": "4mPDeM46kZjq"
      },
      "execution_count": null,
      "outputs": []
    },
    {
      "cell_type": "code",
      "source": [
        "if1"
      ],
      "metadata": {
        "colab": {
          "base_uri": "https://localhost:8080/"
        },
        "id": "v9FuryZOkbSI",
        "outputId": "998e9da9-d362-4042-b887-0686a27b8773"
      },
      "execution_count": null,
      "outputs": [
        {
          "output_type": "execute_result",
          "data": {
            "text/plain": [
              "200"
            ]
          },
          "metadata": {},
          "execution_count": 44
        }
      ]
    },
    {
      "cell_type": "code",
      "source": [
        "import keyword"
      ],
      "metadata": {
        "id": "P3YEpbIDi0RV"
      },
      "execution_count": null,
      "outputs": []
    },
    {
      "cell_type": "code",
      "source": [
        "keyword.kwlist"
      ],
      "metadata": {
        "colab": {
          "base_uri": "https://localhost:8080/"
        },
        "id": "FqXzXh51jDfR",
        "outputId": "d51a0da7-7665-45d6-83eb-5c0bc005d581"
      },
      "execution_count": null,
      "outputs": [
        {
          "output_type": "execute_result",
          "data": {
            "text/plain": [
              "['False',\n",
              " 'None',\n",
              " 'True',\n",
              " 'and',\n",
              " 'as',\n",
              " 'assert',\n",
              " 'async',\n",
              " 'await',\n",
              " 'break',\n",
              " 'class',\n",
              " 'continue',\n",
              " 'def',\n",
              " 'del',\n",
              " 'elif',\n",
              " 'else',\n",
              " 'except',\n",
              " 'finally',\n",
              " 'for',\n",
              " 'from',\n",
              " 'global',\n",
              " 'if',\n",
              " 'import',\n",
              " 'in',\n",
              " 'is',\n",
              " 'lambda',\n",
              " 'nonlocal',\n",
              " 'not',\n",
              " 'or',\n",
              " 'pass',\n",
              " 'raise',\n",
              " 'return',\n",
              " 'try',\n",
              " 'while',\n",
              " 'with',\n",
              " 'yield']"
            ]
          },
          "metadata": {},
          "execution_count": 38
        }
      ]
    },
    {
      "cell_type": "code",
      "source": [
        "len(keyword.kwlist)"
      ],
      "metadata": {
        "colab": {
          "base_uri": "https://localhost:8080/"
        },
        "id": "7aewpmHQjlVh",
        "outputId": "5840bf80-48a3-45f6-800f-b53d33b0866d"
      },
      "execution_count": null,
      "outputs": [
        {
          "output_type": "execute_result",
          "data": {
            "text/plain": [
              "35"
            ]
          },
          "metadata": {},
          "execution_count": 41
        }
      ]
    },
    {
      "cell_type": "code",
      "source": [
        "if = 30"
      ],
      "metadata": {
        "colab": {
          "base_uri": "https://localhost:8080/",
          "height": 134
        },
        "id": "nDVap77sjGE7",
        "outputId": "336df182-d5a2-4f4d-efd1-a6d1634acabb"
      },
      "execution_count": null,
      "outputs": [
        {
          "output_type": "error",
          "ename": "SyntaxError",
          "evalue": "ignored",
          "traceback": [
            "\u001b[0;36m  File \u001b[0;32m\"<ipython-input-39-71e64d133460>\"\u001b[0;36m, line \u001b[0;32m1\u001b[0m\n\u001b[0;31m    if = 30\u001b[0m\n\u001b[0m       ^\u001b[0m\n\u001b[0;31mSyntaxError\u001b[0m\u001b[0;31m:\u001b[0m invalid syntax\n"
          ]
        }
      ]
    },
    {
      "cell_type": "code",
      "source": [
        "fi = 20"
      ],
      "metadata": {
        "id": "ag6Xn12SjQtn"
      },
      "execution_count": null,
      "outputs": []
    },
    {
      "cell_type": "markdown",
      "source": [
        "# Comments In Python"
      ],
      "metadata": {
        "id": "izMxI-mHkk0J"
      }
    },
    {
      "cell_type": "code",
      "source": [
        "// - Java or C++ comments"
      ],
      "metadata": {
        "id": "90E1tOAojRtb"
      },
      "execution_count": null,
      "outputs": []
    },
    {
      "cell_type": "code",
      "source": [
        "# This code is checking if a is less than b or not\n",
        "\n",
        "if a < b:\n",
        "\n",
        "  print(a, \"is less than\", b)"
      ],
      "metadata": {
        "colab": {
          "base_uri": "https://localhost:8080/"
        },
        "id": "2TMRR1zOk-Dv",
        "outputId": "cc38e48d-153e-4c15-847b-c012356ee7b4"
      },
      "execution_count": null,
      "outputs": [
        {
          "output_type": "stream",
          "name": "stdout",
          "text": [
            "10 is less than 20\n"
          ]
        }
      ]
    },
    {
      "cell_type": "code",
      "source": [
        "# miltiline comments\n",
        "# Line - 1\n",
        "# Line - 2\n",
        "# Line - 3\n"
      ],
      "metadata": {
        "id": "-YJkDEWqlHCL"
      },
      "execution_count": null,
      "outputs": []
    },
    {
      "cell_type": "code",
      "source": [
        "'''\n",
        "Hello wolrd\n",
        "man is mortal\n",
        "India is best\n",
        "'''\n",
        "\n",
        "print(\"This is multiline comment..\")"
      ],
      "metadata": {
        "colab": {
          "base_uri": "https://localhost:8080/"
        },
        "id": "ccgi12V-mHDt",
        "outputId": "d483ab26-ccc2-42df-8536-a9468e9ec3bc"
      },
      "execution_count": null,
      "outputs": [
        {
          "output_type": "stream",
          "name": "stdout",
          "text": [
            "This is multiline comment..\n"
          ]
        }
      ]
    },
    {
      "cell_type": "code",
      "source": [
        "\"\"\"\n",
        "Hello wolrd\n",
        "man is mortal\n",
        "India is best\n",
        "\"\"\"\n",
        "\n",
        "\n",
        "print(\"This is multiline comment..\")"
      ],
      "metadata": {
        "colab": {
          "base_uri": "https://localhost:8080/"
        },
        "id": "ul2RK_pumWGn",
        "outputId": "f79a1ff6-58cd-4d98-de98-b83855508535"
      },
      "execution_count": null,
      "outputs": [
        {
          "output_type": "stream",
          "name": "stdout",
          "text": [
            "This is multiline comment..\n"
          ]
        }
      ]
    },
    {
      "cell_type": "markdown",
      "source": [
        "# Statements in Python"
      ],
      "metadata": {
        "id": "ZWoDg7uMmm54"
      }
    },
    {
      "cell_type": "code",
      "source": [
        "# single line statements\n",
        "num = 10"
      ],
      "metadata": {
        "id": "_Hx0l4oYmiY6"
      },
      "execution_count": null,
      "outputs": []
    },
    {
      "cell_type": "code",
      "source": [
        "# multiline statements\n",
        "a = 10 + 20 + 30 + 40 + \\\n",
        "    50 + 60 + 70 + \\\n",
        "    80 + 90"
      ],
      "metadata": {
        "colab": {
          "base_uri": "https://localhost:8080/",
          "height": 134
        },
        "id": "31KoklBUmroP",
        "outputId": "c182b04d-b2be-42a1-e06d-8f9512138ba2"
      },
      "execution_count": null,
      "outputs": [
        {
          "output_type": "error",
          "ename": "SyntaxError",
          "evalue": "ignored",
          "traceback": [
            "\u001b[0;36m  File \u001b[0;32m\"<ipython-input-61-4878a02605a5>\"\u001b[0;36m, line \u001b[0;32m2\u001b[0m\n\u001b[0;31m    a = 10 + 20 + \\ 30 + 40 +     50 + 60 + 70 +     80 + 90\u001b[0m\n\u001b[0m                                                            ^\u001b[0m\n\u001b[0;31mSyntaxError\u001b[0m\u001b[0;31m:\u001b[0m unexpected character after line continuation character\n"
          ]
        }
      ]
    },
    {
      "cell_type": "code",
      "source": [
        "a"
      ],
      "metadata": {
        "colab": {
          "base_uri": "https://localhost:8080/"
        },
        "id": "PwCxuy-snm_E",
        "outputId": "c19c5634-c36b-420f-e8eb-ec7677737973"
      },
      "execution_count": null,
      "outputs": [
        {
          "output_type": "execute_result",
          "data": {
            "text/plain": [
              "450"
            ]
          },
          "metadata": {},
          "execution_count": 56
        }
      ]
    },
    {
      "cell_type": "code",
      "source": [
        "# multiline statements\n",
        "a = (10 + 20 + 30 + 40 + \n",
        "    50 + 60 + 70 + \n",
        "    80 + 90 + 100)"
      ],
      "metadata": {
        "id": "-EAzB6E7nq_I"
      },
      "execution_count": null,
      "outputs": []
    },
    {
      "cell_type": "code",
      "source": [
        "a"
      ],
      "metadata": {
        "colab": {
          "base_uri": "https://localhost:8080/"
        },
        "id": "eai5iQdJoHX3",
        "outputId": "dfd6d56a-811f-4a57-985d-f1190b0472da"
      },
      "execution_count": null,
      "outputs": [
        {
          "output_type": "execute_result",
          "data": {
            "text/plain": [
              "550"
            ]
          },
          "metadata": {},
          "execution_count": 60
        }
      ]
    },
    {
      "cell_type": "markdown",
      "source": [
        "# Kon bola ki Python semicolon support nehi karta"
      ],
      "metadata": {
        "id": "YAsB5X3NqAAv"
      }
    },
    {
      "cell_type": "markdown",
      "source": [
        ""
      ],
      "metadata": {
        "id": "c5Heb9gKr8_N"
      }
    },
    {
      "cell_type": "code",
      "source": [
        "a = 10\n",
        "b = 20\n",
        "c = 30"
      ],
      "metadata": {
        "id": "-0MgEoF8rwNJ"
      },
      "execution_count": null,
      "outputs": []
    },
    {
      "cell_type": "code",
      "source": [
        "a = 10 ; b = 20; c = 30"
      ],
      "metadata": {
        "id": "g5zNh6VGoL7J"
      },
      "execution_count": null,
      "outputs": []
    },
    {
      "cell_type": "markdown",
      "source": [
        "## Multiple Assignment"
      ],
      "metadata": {
        "id": "M5qcTGONsCSN"
      }
    },
    {
      "cell_type": "code",
      "source": [
        "a, b, c = 10, 20, 40"
      ],
      "metadata": {
        "id": "_FnrKQBBrXdE"
      },
      "execution_count": null,
      "outputs": []
    },
    {
      "cell_type": "code",
      "source": [
        "a = b = c = 10"
      ],
      "metadata": {
        "id": "ylZxTAIHrfak"
      },
      "execution_count": null,
      "outputs": []
    },
    {
      "cell_type": "markdown",
      "source": [
        "# Storage "
      ],
      "metadata": {
        "id": "VryNeLRksFQg"
      }
    },
    {
      "cell_type": "code",
      "source": [
        "num = 200\n",
        "id(num)"
      ],
      "metadata": {
        "colab": {
          "base_uri": "https://localhost:8080/"
        },
        "id": "teCJYUzsr54t",
        "outputId": "3c360076-38ee-49d1-e8dc-ee5375d7c5f8"
      },
      "execution_count": null,
      "outputs": [
        {
          "output_type": "execute_result",
          "data": {
            "text/plain": [
              "93910218638048"
            ]
          },
          "metadata": {},
          "execution_count": 66
        }
      ]
    },
    {
      "cell_type": "code",
      "source": [
        "num2 = 200\n",
        "id(num2)"
      ],
      "metadata": {
        "colab": {
          "base_uri": "https://localhost:8080/"
        },
        "id": "Bq_duRkhsYeL",
        "outputId": "4f27b259-60c3-4b0c-aafe-124fa26a5009"
      },
      "execution_count": null,
      "outputs": [
        {
          "output_type": "execute_result",
          "data": {
            "text/plain": [
              "93910218638048"
            ]
          },
          "metadata": {},
          "execution_count": 67
        }
      ]
    },
    {
      "cell_type": "code",
      "source": [
        "num = 300\n",
        "print(num)\n",
        "id(num)"
      ],
      "metadata": {
        "colab": {
          "base_uri": "https://localhost:8080/"
        },
        "id": "vd0AV-8Zsov-",
        "outputId": "236bc9a4-4219-4d7c-b03b-57f66e520cce"
      },
      "execution_count": null,
      "outputs": [
        {
          "output_type": "stream",
          "name": "stdout",
          "text": [
            "300\n"
          ]
        },
        {
          "output_type": "execute_result",
          "data": {
            "text/plain": [
              "140684953165264"
            ]
          },
          "metadata": {},
          "execution_count": 102
        }
      ]
    },
    {
      "cell_type": "code",
      "source": [
        "print(num2)"
      ],
      "metadata": {
        "colab": {
          "base_uri": "https://localhost:8080/"
        },
        "id": "gxJxdf2QtUP0",
        "outputId": "c9423479-1f51-4674-af24-82143f7be92a"
      },
      "execution_count": null,
      "outputs": [
        {
          "output_type": "stream",
          "name": "stdout",
          "text": [
            "300\n"
          ]
        }
      ]
    },
    {
      "cell_type": "code",
      "source": [
        "num2 = 300\n",
        "id(num2)"
      ],
      "metadata": {
        "colab": {
          "base_uri": "https://localhost:8080/"
        },
        "id": "JVEbqpAGtshI",
        "outputId": "56f65e32-929d-4891-e68c-05bd56b9b58a"
      },
      "execution_count": null,
      "outputs": [
        {
          "output_type": "execute_result",
          "data": {
            "text/plain": [
              "140684953115632"
            ]
          },
          "metadata": {},
          "execution_count": 104
        }
      ]
    },
    {
      "cell_type": "markdown",
      "source": [
        "# Input/Output"
      ],
      "metadata": {
        "id": "ookGmGJmvIAt"
      }
    },
    {
      "cell_type": "code",
      "source": [
        "a = input()\n",
        "print(\"You Enter\", a)"
      ],
      "metadata": {
        "colab": {
          "base_uri": "https://localhost:8080/"
        },
        "id": "_44JbNotutT9",
        "outputId": "872f1679-a221-418d-e669-8ce2dc6cc45d"
      },
      "execution_count": null,
      "outputs": [
        {
          "output_type": "stream",
          "name": "stdout",
          "text": [
            "20\n",
            "You Enter 20\n"
          ]
        }
      ]
    },
    {
      "cell_type": "code",
      "source": [
        "name = input(\"Enter Your Name: \")"
      ],
      "metadata": {
        "colab": {
          "base_uri": "https://localhost:8080/"
        },
        "id": "N_OogGGRvYsc",
        "outputId": "97278b9f-6a64-4e67-fed2-79c4d03b16e8"
      },
      "execution_count": null,
      "outputs": [
        {
          "name": "stdout",
          "output_type": "stream",
          "text": [
            "Enter Your Name: Jonathan\n"
          ]
        }
      ]
    },
    {
      "cell_type": "code",
      "source": [
        "print(name)"
      ],
      "metadata": {
        "colab": {
          "base_uri": "https://localhost:8080/"
        },
        "id": "XYY8K8c8v-kJ",
        "outputId": "67346980-99ca-4448-c6e0-a21c79440e68"
      },
      "execution_count": null,
      "outputs": [
        {
          "output_type": "stream",
          "name": "stdout",
          "text": [
            "Jonathan\n"
          ]
        }
      ]
    },
    {
      "cell_type": "code",
      "source": [
        "type(name)"
      ],
      "metadata": {
        "colab": {
          "base_uri": "https://localhost:8080/"
        },
        "id": "95YXkqT-wL7T",
        "outputId": "a607d8b0-3657-48b5-f6eb-31c598dc6c83"
      },
      "execution_count": null,
      "outputs": [
        {
          "output_type": "execute_result",
          "data": {
            "text/plain": [
              "str"
            ]
          },
          "metadata": {},
          "execution_count": 82
        }
      ]
    },
    {
      "cell_type": "code",
      "source": [
        "a = int(input(\"Enter a Number: \"))\n",
        "print(a)\n",
        "type(a)"
      ],
      "metadata": {
        "colab": {
          "base_uri": "https://localhost:8080/"
        },
        "id": "4hcGubhXwRtv",
        "outputId": "22473e49-2f5d-4928-c662-9e68cd1ffe5f"
      },
      "execution_count": null,
      "outputs": [
        {
          "output_type": "stream",
          "name": "stdout",
          "text": [
            "Enter a Number: 10\n",
            "10\n"
          ]
        },
        {
          "output_type": "execute_result",
          "data": {
            "text/plain": [
              "int"
            ]
          },
          "metadata": {},
          "execution_count": 91
        }
      ]
    },
    {
      "cell_type": "code",
      "source": [
        "name = \"Jonathan\"\n",
        "roll = 21\n",
        "\n",
        "print(name, roll)"
      ],
      "metadata": {
        "colab": {
          "base_uri": "https://localhost:8080/"
        },
        "id": "VadZdltmwbv4",
        "outputId": "90596b6f-362a-4f21-c618-20a9ac4f3748"
      },
      "execution_count": null,
      "outputs": [
        {
          "output_type": "stream",
          "name": "stdout",
          "text": [
            "Jonathan 21\n"
          ]
        }
      ]
    },
    {
      "cell_type": "code",
      "source": [
        "print(\"My name is\", name, \"and my roll is\", roll)"
      ],
      "metadata": {
        "colab": {
          "base_uri": "https://localhost:8080/"
        },
        "id": "zdiKxYSKxXgS",
        "outputId": "e3b4b9f5-3e92-42a7-e5c4-ea9bb5cc5046"
      },
      "execution_count": null,
      "outputs": [
        {
          "output_type": "stream",
          "name": "stdout",
          "text": [
            "My name is Jonathan and my roll is 21\n"
          ]
        }
      ]
    },
    {
      "cell_type": "code",
      "source": [
        "print(\"My name is\" + name + \"and my roll is\" + roll)"
      ],
      "metadata": {
        "colab": {
          "base_uri": "https://localhost:8080/",
          "height": 170
        },
        "id": "DSQaG2ovxe-c",
        "outputId": "be0a7a79-a898-48d2-db66-7d5f205130c4"
      },
      "execution_count": null,
      "outputs": [
        {
          "output_type": "error",
          "ename": "TypeError",
          "evalue": "ignored",
          "traceback": [
            "\u001b[0;31m---------------------------------------------------------------------------\u001b[0m",
            "\u001b[0;31mTypeError\u001b[0m                                 Traceback (most recent call last)",
            "\u001b[0;32m<ipython-input-94-22b06d76e13b>\u001b[0m in \u001b[0;36m<module>\u001b[0;34m()\u001b[0m\n\u001b[0;32m----> 1\u001b[0;31m \u001b[0mprint\u001b[0m\u001b[0;34m(\u001b[0m\u001b[0;34m\"My name is\"\u001b[0m \u001b[0;34m+\u001b[0m \u001b[0mname\u001b[0m \u001b[0;34m+\u001b[0m \u001b[0;34m\"and my roll is\"\u001b[0m \u001b[0;34m+\u001b[0m \u001b[0mroll\u001b[0m\u001b[0;34m)\u001b[0m\u001b[0;34m\u001b[0m\u001b[0;34m\u001b[0m\u001b[0m\n\u001b[0m",
            "\u001b[0;31mTypeError\u001b[0m: can only concatenate str (not \"int\") to str"
          ]
        }
      ]
    },
    {
      "cell_type": "code",
      "source": [
        "print(\"My name is\" + name + \"and my roll is\" + str(roll))"
      ],
      "metadata": {
        "colab": {
          "base_uri": "https://localhost:8080/"
        },
        "id": "ef_lA9sGxrvI",
        "outputId": "5ab313bf-b12c-4fa4-c960-2aab03c2a48b"
      },
      "execution_count": null,
      "outputs": [
        {
          "output_type": "stream",
          "name": "stdout",
          "text": [
            "My name isJonathanand my roll is21\n"
          ]
        }
      ]
    },
    {
      "cell_type": "code",
      "source": [
        ""
      ],
      "metadata": {
        "colab": {
          "base_uri": "https://localhost:8080/"
        },
        "id": "KIQAyxK1zWfB",
        "outputId": "10ab7669-0c68-4ac7-89c5-2100fd028972"
      },
      "execution_count": null,
      "outputs": [
        {
          "output_type": "execute_result",
          "data": {
            "text/plain": [
              "int"
            ]
          },
          "metadata": {},
          "execution_count": 99
        }
      ]
    },
    {
      "cell_type": "code",
      "source": [
        "print(\"My name is {} and my roll is {}\".format(name, roll))"
      ],
      "metadata": {
        "colab": {
          "base_uri": "https://localhost:8080/"
        },
        "id": "4oRsVCwOxuaz",
        "outputId": "7552373a-aef5-4ec9-cbcc-90ffb20c8e87"
      },
      "execution_count": null,
      "outputs": [
        {
          "output_type": "stream",
          "name": "stdout",
          "text": [
            "My name is {} and my roll is {}\n"
          ]
        }
      ]
    },
    {
      "cell_type": "code",
      "source": [
        "print(\"My name is {} and my roll is {}\".format(roll, name))"
      ],
      "metadata": {
        "colab": {
          "base_uri": "https://localhost:8080/"
        },
        "id": "epQ69oT0yJZf",
        "outputId": "2be2c1f9-3762-433d-904f-5f6ce1106c0d"
      },
      "execution_count": null,
      "outputs": [
        {
          "output_type": "stream",
          "name": "stdout",
          "text": [
            "My name is 21 and my roll is Jonathan\n"
          ]
        }
      ]
    },
    {
      "cell_type": "code",
      "source": [
        "print(\"My name is {1} and my roll is {0}\".format(roll, name))"
      ],
      "metadata": {
        "colab": {
          "base_uri": "https://localhost:8080/"
        },
        "id": "I7BSaBF6yham",
        "outputId": "097014c2-7cdc-45ec-d73f-6f97184bcd12"
      },
      "execution_count": null,
      "outputs": [
        {
          "output_type": "stream",
          "name": "stdout",
          "text": [
            "My name is Jonathan and my roll is 21\n"
          ]
        }
      ]
    },
    {
      "cell_type": "code",
      "source": [
        "print(\"My name is {name} and my roll is {roll}\".format(name = \"Krishna\", roll = 21))"
      ],
      "metadata": {
        "colab": {
          "base_uri": "https://localhost:8080/"
        },
        "id": "PIiP0T_8zjYw",
        "outputId": "01944cd6-4363-4056-90e0-2011f45e22c3"
      },
      "execution_count": null,
      "outputs": [
        {
          "output_type": "stream",
          "name": "stdout",
          "text": [
            "My name is Krishna and my roll is 21\n"
          ]
        }
      ]
    },
    {
      "cell_type": "code",
      "source": [
        ""
      ],
      "metadata": {
        "id": "Y3ckm_080RFy"
      },
      "execution_count": null,
      "outputs": []
    },
    {
      "cell_type": "markdown",
      "source": [
        "# Data Type in Python\n",
        " - Boolean: bool \n",
        " - Number: int, float, complex\n",
        " - Text Type: str\n",
        " - Sequence: list, tuple, range\n",
        " - Maping: dict\n",
        " - Set Type: set\n",
        " - Binary Type: bytes, bytearray, memoryview"
      ],
      "metadata": {
        "id": "Bp5ZmfFN2x-i"
      }
    },
    {
      "cell_type": "code",
      "source": [
        "#a = true - wrong\n",
        "a = True\n",
        "b = False\n",
        "\n",
        "type(a)"
      ],
      "metadata": {
        "colab": {
          "base_uri": "https://localhost:8080/"
        },
        "id": "U2yc4Lt82zzF",
        "outputId": "2e5a2128-291f-4b60-e712-4bdb8f102017"
      },
      "execution_count": null,
      "outputs": [
        {
          "output_type": "execute_result",
          "data": {
            "text/plain": [
              "bool"
            ]
          },
          "metadata": {},
          "execution_count": 108
        }
      ]
    },
    {
      "cell_type": "code",
      "source": [
        "a = 10 # int\n",
        "b = 10.5 # float\n",
        "c = 10 + 5j # complex\n",
        "\n",
        "type(c)"
      ],
      "metadata": {
        "colab": {
          "base_uri": "https://localhost:8080/"
        },
        "id": "Slpffidl3n0x",
        "outputId": "26d4be06-b085-4b55-d209-1e63c8107774"
      },
      "execution_count": null,
      "outputs": [
        {
          "output_type": "execute_result",
          "data": {
            "text/plain": [
              "complex"
            ]
          },
          "metadata": {},
          "execution_count": 109
        }
      ]
    },
    {
      "cell_type": "markdown",
      "source": [
        "# String"
      ],
      "metadata": {
        "id": "jWZTe4rH7mLl"
      }
    },
    {
      "cell_type": "code",
      "source": [
        "s = \"Python is the best\""
      ],
      "metadata": {
        "id": "EG6phnPm42L9"
      },
      "execution_count": null,
      "outputs": []
    },
    {
      "cell_type": "code",
      "source": [
        "type(s)"
      ],
      "metadata": {
        "colab": {
          "base_uri": "https://localhost:8080/"
        },
        "id": "bV_EYvO-7hyR",
        "outputId": "e1954880-2fdb-4081-ac4d-8f4c694b6e56"
      },
      "execution_count": null,
      "outputs": [
        {
          "output_type": "execute_result",
          "data": {
            "text/plain": [
              "str"
            ]
          },
          "metadata": {},
          "execution_count": 112
        }
      ]
    },
    {
      "cell_type": "code",
      "source": [
        "s = \"\"\"Python is a Prog lan\n",
        "It's very simple\"\"\""
      ],
      "metadata": {
        "id": "AvJikNVy7x92"
      },
      "execution_count": null,
      "outputs": []
    },
    {
      "cell_type": "code",
      "source": [
        "print(s)"
      ],
      "metadata": {
        "colab": {
          "base_uri": "https://localhost:8080/"
        },
        "id": "o_YKGyr37-Sk",
        "outputId": "05ea1bdf-71f9-48ed-a7df-a12a6e92b226"
      },
      "execution_count": null,
      "outputs": [
        {
          "output_type": "stream",
          "name": "stdout",
          "text": [
            "Python is a Prog lan\n",
            "It's very simple\n"
          ]
        }
      ]
    },
    {
      "cell_type": "code",
      "source": [
        "s[1]"
      ],
      "metadata": {
        "colab": {
          "base_uri": "https://localhost:8080/",
          "height": 35
        },
        "id": "35Pfy39o7-ng",
        "outputId": "2b224f56-e1b5-4bbf-c675-6e2e84ba4e42"
      },
      "execution_count": null,
      "outputs": [
        {
          "output_type": "execute_result",
          "data": {
            "application/vnd.google.colaboratory.intrinsic+json": {
              "type": "string"
            },
            "text/plain": [
              "'y'"
            ]
          },
          "metadata": {},
          "execution_count": 116
        }
      ]
    },
    {
      "cell_type": "code",
      "source": [
        "s[10]"
      ],
      "metadata": {
        "colab": {
          "base_uri": "https://localhost:8080/",
          "height": 35
        },
        "id": "AVkiIGg28Osi",
        "outputId": "10aaef2e-0f2d-417f-fff8-d76cfecffd0d"
      },
      "execution_count": null,
      "outputs": [
        {
          "output_type": "execute_result",
          "data": {
            "application/vnd.google.colaboratory.intrinsic+json": {
              "type": "string"
            },
            "text/plain": [
              "'t'"
            ]
          },
          "metadata": {},
          "execution_count": 118
        }
      ]
    },
    {
      "cell_type": "code",
      "source": [
        "s"
      ],
      "metadata": {
        "colab": {
          "base_uri": "https://localhost:8080/",
          "height": 35
        },
        "id": "5KeqoIqn82BC",
        "outputId": "fa425b15-7cb5-44e8-de15-94333a648816"
      },
      "execution_count": null,
      "outputs": [
        {
          "output_type": "execute_result",
          "data": {
            "application/vnd.google.colaboratory.intrinsic+json": {
              "type": "string"
            },
            "text/plain": [
              "'Python is the best'"
            ]
          },
          "metadata": {},
          "execution_count": 121
        }
      ]
    },
    {
      "cell_type": "code",
      "source": [
        "s[2:10]"
      ],
      "metadata": {
        "colab": {
          "base_uri": "https://localhost:8080/",
          "height": 35
        },
        "id": "dwPLrS6b8cC1",
        "outputId": "aaf0100a-53fc-4725-9640-0c99883882b5"
      },
      "execution_count": null,
      "outputs": [
        {
          "output_type": "execute_result",
          "data": {
            "application/vnd.google.colaboratory.intrinsic+json": {
              "type": "string"
            },
            "text/plain": [
              "'thon is '"
            ]
          },
          "metadata": {},
          "execution_count": 120
        }
      ]
    },
    {
      "cell_type": "code",
      "source": [
        "s[2:11:2]"
      ],
      "metadata": {
        "colab": {
          "base_uri": "https://localhost:8080/",
          "height": 35
        },
        "id": "VWPpJq-q8jpB",
        "outputId": "03923ae3-7c17-4c96-f728-62f4256c0d0a"
      },
      "execution_count": null,
      "outputs": [
        {
          "output_type": "execute_result",
          "data": {
            "application/vnd.google.colaboratory.intrinsic+json": {
              "type": "string"
            },
            "text/plain": [
              "'to st'"
            ]
          },
          "metadata": {},
          "execution_count": 122
        }
      ]
    },
    {
      "cell_type": "code",
      "source": [
        "s = \"Python\""
      ],
      "metadata": {
        "id": "X4S01SzJ89ne"
      },
      "execution_count": null,
      "outputs": []
    },
    {
      "cell_type": "code",
      "source": [
        "s[1:4]"
      ],
      "metadata": {
        "colab": {
          "base_uri": "https://localhost:8080/",
          "height": 35
        },
        "id": "oCuORlws-cnp",
        "outputId": "27b4bded-e9db-427f-9f06-7e904afb79ef"
      },
      "execution_count": null,
      "outputs": [
        {
          "output_type": "execute_result",
          "data": {
            "application/vnd.google.colaboratory.intrinsic+json": {
              "type": "string"
            },
            "text/plain": [
              "'yth'"
            ]
          },
          "metadata": {},
          "execution_count": 124
        }
      ]
    },
    {
      "cell_type": "code",
      "source": [
        "s[1:5]"
      ],
      "metadata": {
        "colab": {
          "base_uri": "https://localhost:8080/",
          "height": 35
        },
        "id": "HC3a565t-ej9",
        "outputId": "6aa02e09-90e1-4b4d-811d-d17f16d4f589"
      },
      "execution_count": null,
      "outputs": [
        {
          "output_type": "execute_result",
          "data": {
            "application/vnd.google.colaboratory.intrinsic+json": {
              "type": "string"
            },
            "text/plain": [
              "'ytho'"
            ]
          },
          "metadata": {},
          "execution_count": 125
        }
      ]
    },
    {
      "cell_type": "code",
      "source": [
        "s[1:]"
      ],
      "metadata": {
        "colab": {
          "base_uri": "https://localhost:8080/",
          "height": 35
        },
        "id": "SvIljcV_-gF2",
        "outputId": "ace16049-6630-4b22-939e-f020c90d3c8d"
      },
      "execution_count": null,
      "outputs": [
        {
          "output_type": "execute_result",
          "data": {
            "application/vnd.google.colaboratory.intrinsic+json": {
              "type": "string"
            },
            "text/plain": [
              "'ython'"
            ]
          },
          "metadata": {},
          "execution_count": 126
        }
      ]
    },
    {
      "cell_type": "code",
      "source": [
        "s[:4]"
      ],
      "metadata": {
        "colab": {
          "base_uri": "https://localhost:8080/",
          "height": 35
        },
        "id": "ODfaDMr3-jbE",
        "outputId": "a674529d-c2fb-4f19-b559-8a4a8b027776"
      },
      "execution_count": null,
      "outputs": [
        {
          "output_type": "execute_result",
          "data": {
            "application/vnd.google.colaboratory.intrinsic+json": {
              "type": "string"
            },
            "text/plain": [
              "'Pyth'"
            ]
          },
          "metadata": {},
          "execution_count": 127
        }
      ]
    },
    {
      "cell_type": "code",
      "source": [
        "s[1:5:2]"
      ],
      "metadata": {
        "colab": {
          "base_uri": "https://localhost:8080/",
          "height": 35
        },
        "id": "yWBzHlmY-l1Y",
        "outputId": "6065e477-2b53-441b-ff9c-25a22ae3935b"
      },
      "execution_count": null,
      "outputs": [
        {
          "output_type": "execute_result",
          "data": {
            "application/vnd.google.colaboratory.intrinsic+json": {
              "type": "string"
            },
            "text/plain": [
              "'yh'"
            ]
          },
          "metadata": {},
          "execution_count": 128
        }
      ]
    },
    {
      "cell_type": "code",
      "source": [
        "s[5:1:-2]"
      ],
      "metadata": {
        "colab": {
          "base_uri": "https://localhost:8080/",
          "height": 35
        },
        "id": "04pg3gGC-o3H",
        "outputId": "18657055-d213-464d-e2cd-488b7d66a53f"
      },
      "execution_count": null,
      "outputs": [
        {
          "output_type": "execute_result",
          "data": {
            "application/vnd.google.colaboratory.intrinsic+json": {
              "type": "string"
            },
            "text/plain": [
              "'nh'"
            ]
          },
          "metadata": {},
          "execution_count": 132
        }
      ]
    },
    {
      "cell_type": "code",
      "source": [
        "s[1:5:2]"
      ],
      "metadata": {
        "colab": {
          "base_uri": "https://localhost:8080/",
          "height": 35
        },
        "id": "mnZVN3h9-vTs",
        "outputId": "ddb26469-7244-4ff6-e572-d9b40139ecc0"
      },
      "execution_count": null,
      "outputs": [
        {
          "output_type": "execute_result",
          "data": {
            "application/vnd.google.colaboratory.intrinsic+json": {
              "type": "string"
            },
            "text/plain": [
              "'yh'"
            ]
          },
          "metadata": {},
          "execution_count": 133
        }
      ]
    },
    {
      "cell_type": "code",
      "source": [
        "s[5::-1]"
      ],
      "metadata": {
        "colab": {
          "base_uri": "https://localhost:8080/",
          "height": 35
        },
        "id": "6GAEPNeS_tPr",
        "outputId": "fbbcd5af-7fe4-41f5-d92d-287306910bc7"
      },
      "execution_count": null,
      "outputs": [
        {
          "output_type": "execute_result",
          "data": {
            "application/vnd.google.colaboratory.intrinsic+json": {
              "type": "string"
            },
            "text/plain": [
              "'nohtyP'"
            ]
          },
          "metadata": {},
          "execution_count": 134
        }
      ]
    },
    {
      "cell_type": "code",
      "source": [
        "s[_:_]"
      ],
      "metadata": {
        "colab": {
          "base_uri": "https://localhost:8080/",
          "height": 170
        },
        "id": "N90XgLpMAFLr",
        "outputId": "74f784af-bd68-4454-9f4e-aa9e25e4cd22"
      },
      "execution_count": null,
      "outputs": [
        {
          "output_type": "error",
          "ename": "TypeError",
          "evalue": "ignored",
          "traceback": [
            "\u001b[0;31m---------------------------------------------------------------------------\u001b[0m",
            "\u001b[0;31mTypeError\u001b[0m                                 Traceback (most recent call last)",
            "\u001b[0;32m<ipython-input-135-51519108bce0>\u001b[0m in \u001b[0;36m<module>\u001b[0;34m()\u001b[0m\n\u001b[0;32m----> 1\u001b[0;31m \u001b[0ms\u001b[0m\u001b[0;34m[\u001b[0m\u001b[0m_\u001b[0m\u001b[0;34m:\u001b[0m\u001b[0m_\u001b[0m\u001b[0;34m]\u001b[0m\u001b[0;34m\u001b[0m\u001b[0;34m\u001b[0m\u001b[0m\n\u001b[0m",
            "\u001b[0;31mTypeError\u001b[0m: slice indices must be integers or None or have an __index__ method"
          ]
        }
      ]
    },
    {
      "cell_type": "code",
      "source": [
        ""
      ],
      "metadata": {
        "id": "sCxjkbtsAiXk"
      },
      "execution_count": null,
      "outputs": []
    }
  ]
}